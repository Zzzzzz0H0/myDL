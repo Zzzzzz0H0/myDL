{
 "cells": [
  {
   "cell_type": "markdown",
   "metadata": {},
   "source": [
    "# 第一章数据模型\n",
    "#### pythonic: 更简洁，更优雅，更易读\n",
    "#### 数据模型: 为对python语言作为一种框架的解释，它统一了语言自身模块的口，如序列，迭代器，函数，类，上下文管理等。\n",
    "#### 实现：通过前后双下划线的方法来触发，如\\_\\_getittem\\_\\_\n",
    "####  支持的语言结构：\n",
    "#####   1.迭代器\n",
    "#####   2.集合\n",
    "#####   3.属性访问\n",
    "#####   4.运算法重载\n",
    "#####   5.函数和方法的调用\n",
    "#####   6.字符串格式化和表达\n",
    "#####   7.上下文管理"
   ]
  },
  {
   "cell_type": "code",
   "execution_count": 59,
   "metadata": {},
   "outputs": [
    {
     "name": "stdout",
     "output_type": "stream",
     "text": [
      "Card(rank='3', suit='spades') Card(rank='5', suit='spades')\n",
      "Card(rank='2', suit='spades')\n",
      "[Card(rank='2', suit='spades'), Card(rank='3', suit='spades'), Card(rank='4', suit='spades')]\n",
      "[Card(rank='A', suit='spades'), Card(rank='A', suit='diamonds'), Card(rank='A', suit='clubs'), Card(rank='A', suit='hearts')]\n",
      "Card(rank='2', suit='spades')\n",
      "Card(rank='3', suit='spades')\n",
      "Card(rank='4', suit='spades')\n",
      "Card(rank='5', suit='spades')\n",
      "Card(rank='6', suit='spades')\n",
      "Card(rank='7', suit='spades')\n",
      "Card(rank='8', suit='spades')\n",
      "Card(rank='9', suit='spades')\n",
      "Card(rank='10', suit='spades')\n",
      "Card(rank='J', suit='spades')\n",
      "Card(rank='J', suit='spades')\n",
      "Card(rank='10', suit='spades')\n",
      "Card(rank='9', suit='spades')\n",
      "Card(rank='8', suit='spades')\n",
      "Card(rank='7', suit='spades')\n",
      "Card(rank='6', suit='spades')\n",
      "Card(rank='5', suit='spades')\n",
      "Card(rank='4', suit='spades')\n",
      "Card(rank='3', suit='spades')\n",
      "Card(rank='2', suit='spades')\n"
     ]
    },
    {
     "data": {
      "text/plain": [
       "[Card(rank='A', suit='spades'),\n",
       " Card(rank='A', suit='diamonds'),\n",
       " Card(rank='A', suit='clubs'),\n",
       " Card(rank='A', suit='hearts'),\n",
       " Card(rank='K', suit='spades'),\n",
       " Card(rank='K', suit='diamonds'),\n",
       " Card(rank='K', suit='clubs'),\n",
       " Card(rank='K', suit='hearts'),\n",
       " Card(rank='Q', suit='spades'),\n",
       " Card(rank='Q', suit='diamonds')]"
      ]
     },
     "execution_count": 59,
     "metadata": {},
     "output_type": "execute_result"
    }
   ],
   "source": [
    "import collections\n",
    "\"\"\"实现一张扑克牌类\"\"\"\n",
    "\"\"\"\n",
    "使用的是collections.nametuple，继承自tuple类，可以给元素指定名字，\n",
    "访问元素不仅可以通过下标，还可以通过名字访问\n",
    "\"\"\"\n",
    "# 一张牌有2个属性，一个是分数，一个是花色\n",
    "Card = collections.namedtuple('Card', ['rank', 'suit'])\n",
    "# 方块7\n",
    "beer_card = Card('7', 'diamonds')\n",
    "\n",
    "# class FrechDeck(object): in python2\n",
    "\"\"\"实现一副扑克牌类\"\"\"\n",
    "\"\"\"\n",
    "分数有JQKA，所以使用字符类型，花色使用字符串\n",
    "一副牌分数2-11加JQKA，花色4种，所以共有13*4=52张\n",
    "\"\"\"\n",
    "class FrechDeck: \n",
    "        ranks = [str(n) for n in range(2, 11)] + list('JQKA')\n",
    "        suits = 'spades diamonds clubs hearts'.split()\n",
    "        def __init__(self):\n",
    "            # 生成52张牌，放在_cards列表中\n",
    "            self._cards = [Card(rank, suit) for suit in self.suits\n",
    "                                            for rank in self.ranks]\n",
    "        \n",
    "        # 定义len函数行为\n",
    "        def __len__(self):\n",
    "            return len(self._cards)\n",
    "        \n",
    "        # 定义get函数行为\n",
    "        def __getitem__(self, position):\n",
    "            return self._cards[position]\n",
    "\n",
    "deck = FrechDeck()\n",
    "from random import choice\n",
    "# 使用choice函数随机抽2张牌，依赖__getitem__函数 \n",
    "print(choice(deck),choice(deck))\n",
    "len(deck)\n",
    "print(deck[0])\n",
    "# support slice\n",
    "print(deck[:3])\n",
    "print(deck[12::13])\n",
    "# iterable after implement __getitem__ special function\n",
    "# 打印前10张牌\n",
    "for card in deck[:10]:\n",
    "    print(card)\n",
    "# 打印最后10张牌\n",
    "for card in reversed(deck[:10]):\n",
    "    print(card)\n",
    "# rewrite sord function\n",
    "def sort_card(card):\n",
    "    suit_values = dict(spades=3, diamonds=2, clubs=1, hearts=0)\n",
    "    rank_value = FrechDeck.ranks.index(card.rank)\n",
    "    return rank_value * len(suit_values) + suit_values[card.suit]\n",
    "# 给牌排序\n",
    "sorted(deck, key=sort_card, reverse=True)[:10]\n",
    "\"\"\"\n",
    "****************************************************************************************************\n",
    "Card(rank='3', suit='spades') Card(rank='5', suit='spades')\n",
    "Card(rank='2', suit='spades')\n",
    "[Card(rank='2', suit='spades'), Card(rank='3', suit='spades'), Card(rank='4', suit='spades')]\n",
    "[Card(rank='A', suit='spades'), Card(rank='A', suit='diamonds'), Card(rank='A', suit='clubs'), Card(rank='A', suit='hearts')]\n",
    "Card(rank='2', suit='spades')\n",
    "Card(rank='3', suit='spades')\n",
    "Card(rank='4', suit='spades')\n",
    "Card(rank='5', suit='spades')\n",
    "Card(rank='6', suit='spades')\n",
    "Card(rank='7', suit='spades')\n",
    "Card(rank='8', suit='spades')\n",
    "Card(rank='9', suit='spades')\n",
    "Card(rank='10', suit='spades')\n",
    "Card(rank='J', suit='spades')\n",
    "Card(rank='J', suit='spades')\n",
    "Card(rank='10', suit='spades')\n",
    "Card(rank='9', suit='spades')\n",
    "Card(rank='8', suit='spades')\n",
    "Card(rank='7', suit='spades')\n",
    "Card(rank='6', suit='spades')\n",
    "Card(rank='5', suit='spades')\n",
    "Card(rank='4', suit='spades')\n",
    "Card(rank='3', suit='spades')\n",
    "Card(rank='2', suit='spades')\n",
    "[Card(rank='A', suit='spades'),\n",
    " Card(rank='A', suit='diamonds'),\n",
    " Card(rank='A', suit='clubs'),\n",
    " Card(rank='A', suit='hearts'),\n",
    " Card(rank='K', suit='spades'),\n",
    " Card(rank='K', suit='diamonds'),\n",
    " Card(rank='K', suit='clubs'),\n",
    " Card(rank='K', suit='hearts'),\n",
    " Card(rank='Q', suit='spades'),\n",
    " Card(rank='Q', suit='diamonds')]\n",
    "****************************************************************************************************\n",
    "\"\"\""
   ]
  },
  {
   "cell_type": "code",
   "execution_count": 60,
   "metadata": {},
   "outputs": [
    {
     "name": "stdout",
     "output_type": "stream",
     "text": [
      "vector (0, 0)\n",
      "5.0\n",
      "True\n",
      "vector (6, 8)\n",
      "vector (-6, 8)\n",
      "vector (3, 4)\n"
     ]
    }
   ],
   "source": [
    "\"\"\"二维vector类\"\"\"\n",
    "from math import hypot\n",
    "class Vector:\n",
    "    def __init__(self, x=0, y=0):\n",
    "        self.x = x\n",
    "        self.y = y\n",
    "\n",
    "    def __repr__(self):\n",
    "        return 'Vector (%r, %r)' %(self.x, self.y)\n",
    "    \n",
    "    def __str__(self):\n",
    "        return 'vector (%r, %r)' %(self.x, self.y)\n",
    "    \n",
    "    def __abs__(self):\n",
    "        return hypot(self.x, self.y)\n",
    "    \n",
    "    def __add__(self, other):\n",
    "        return Vector(self.x + other.x, self.y + other.y)\n",
    "    \n",
    "    def __mul__(self, n):\n",
    "        return Vector(n * self.x, n * self.y)\n",
    "    \n",
    "v1 = Vector()\n",
    "# print函数触发__str__\n",
    "print(v1)\n",
    "v1 = Vector(3, 4)\n",
    "# abs函数触发__abs__\n",
    "print(abs(v1))\n",
    "v2 = Vector(-3, 4)\n",
    "\"\"\"bool函数总是返回True或者Flase，对自定义的类，如果没有实现__bool__\n",
    "和__len__则永远返回True；否则，先使用__bool__的返回值，如果__bool__\n",
    "没实现，则调用__len__，如果__len__的返回值为0，返回False，否则True\"\"\"\n",
    "print(bool(v2))\n",
    "# + 操作符触发__add__\n",
    "# * 操作符触发__mul__\n",
    "print(v1 + v1)\n",
    "print(v2 * 2)\n",
    "# call __str__(),if not elementing call __repr__()\n",
    "print(str(v1))\n",
    "\n",
    "\"\"\"\n",
    "****************************************************************************************************\n",
    "vector (0, 0)\n",
    "5.0\n",
    "True\n",
    "vector (6, 8)\n",
    "vector (-6, 8)\n",
    "vector (3, 4)\n",
    "****************************************************************************************************\n",
    "\"\"\""
   ]
  },
  {
   "cell_type": "markdown",
   "metadata": {},
   "source": [
    "## 第二章 数据结构"
   ]
  },
  {
   "cell_type": "code",
   "execution_count": 80,
   "metadata": {},
   "outputs": [
    {
     "name": "stdout",
     "output_type": "stream",
     "text": [
      "[36, 162, 163, 165, 8364, 164]\n",
      "my precious\n",
      "[162, 163, 165, 8364, 164]\n",
      "****************************************************************************************************\n",
      "0 1 [2, 3, 4]\n",
      "0 [1, 2, 3] 4\n",
      "****************************************************************************************************\n",
      "                |   lat.    |   long.  \n",
      "Mexico City     |   19.4333 |  -99.1333\n",
      "New York-Newark |   40.8086 |  -74.0204\n",
      "Sao Paulo       |  -23.5478 |  -46.6358\n",
      "****************************************************************************************************\n",
      "Tokyo Tokyo\n",
      "OrderedDict([('name', 'Tokyo'), ('country', 'JP'), ('population', '36.933'), ('coordinates', (35.689722, 139.691667))])\n",
      "****************************************************************************************************\n",
      "City(name='China', country='CN', population='1300.000', coordinates=('156.000', '456.000'))\n",
      "City(name='China', country='CN', population='1300.000', coordinates=('156.000', '456.000'))\n",
      "****************************************************************************************************\n"
     ]
    }
   ],
   "source": [
    "# for语句列表生成式\n",
    "symbols = '$¢£¥€¤'\n",
    "codes = [ord(symbol) for symbol in symbols]\n",
    "print(codes)\n",
    "\n",
    "# python3 中for语句会重新生成新的作用域，里面的x和外面的x不是一个作用域\n",
    "# python2 中输出‘C’，for语句不会生成新的作用域，x的值被覆盖掉。\n",
    "x = 'my precious'\n",
    "dummy = [x for x in \"ABC\"]\n",
    "print(x)\n",
    "\n",
    "#可以在列表生成式中加入if语句\n",
    "codes = [ord(symbol) for symbol in symbols if ord(symbol) > 127]\n",
    "print(codes)\n",
    "\n",
    "print('*' * 100)\n",
    "# 使用*args来捕捉任意多余的参数，可用作函数参数中\n",
    "a, b, *c = range(5)\n",
    "print(a, b, c)\n",
    "\n",
    "a, *b , c = range(5)\n",
    "print(a, b, c)\n",
    "\n",
    "print('*' * 100)\n",
    "# tuple嵌套\n",
    "metro_areas = [ ('Tokyo','JP',36.933,(35.689722,139.691667)),\n",
    "                ('Delhi NCR', 'IN', 21.935, (28.613889, 77.208889)), \n",
    "                ('Mexico City', 'MX', 20.142, (19.433333, -99.133333)), \n",
    "                ('New York-Newark', 'US', 20.104, (40.808611, -74.020386)),\n",
    "                ('Sao Paulo', 'BR', 19.649, (-23.547778, -46.635833)),\n",
    "              ]\n",
    "print('{:15} | {:^9} | {:^9}'.format('', 'lat.', 'long.'))\n",
    "fmt = '{:15} | {:9.4f} | {:9.4f}'\n",
    "for name, cc, pop, (latitude, longitude) in metro_areas:\n",
    "    if longitude <= 0:\n",
    "        print(fmt.format(name, latitude, longitude))\n",
    "        \n",
    "print('*' * 100)\n",
    "# namedtuple\n",
    "from collections import namedtuple\n",
    "City = namedtuple('City', 'name country population coordinates')\n",
    "City1 = namedtuple('City', ['name', 'country', 'population', 'coordinates'])\n",
    "tokyo = City('Tokyo', 'JP', '36.933', (35.689722, 139.691667))\n",
    "\n",
    "# 使用名字和索引取数据\n",
    "print(tokyo.name, tokyo[0])\n",
    "print(tokyo._asdict())\n",
    "print('*' * 100)\n",
    "data = ('China','CN', '1300.000', ('156.000', '456.000'))\n",
    "china = City(*data)\n",
    "# _make方法生成一个实例，与City(*data)效果一致 \n",
    "china = City._make(data)\n",
    "print(china)\n",
    "print(china)\n",
    "print('*' * 100)\n",
    "\"\"\"\n",
    "****************************************************************************************************\n",
    "[36, 162, 163, 165, 8364, 164]\n",
    "my precious\n",
    "[162, 163, 165, 8364, 164]\n",
    "****************************************************************************************************\n",
    "0 1 [2, 3, 4]\n",
    "0 [1, 2, 3] 4\n",
    "****************************************************************************************************\n",
    "                |   lat.    |   long.  \n",
    "Mexico City     |   19.4333 |  -99.1333\n",
    "New York-Newark |   40.8086 |  -74.0204\n",
    "Sao Paulo       |  -23.5478 |  -46.6358\n",
    "****************************************************************************************************\n",
    "Tokyo Tokyo\n",
    "OrderedDict([('name', 'Tokyo'), ('country', 'JP'), ('population', '36.933'), ('coordinates', (35.689722, 139.691667))])\n",
    "****************************************************************************************************\n",
    "City(name='China', country='CN', population='1300.000', coordinates=('156.000', '456.000'))\n",
    "City(name='China', country='CN', population='1300.000', coordinates=('156.000', '456.000'))\n",
    "****************************************************************************************************\n",
    "\"\"\""
   ]
  },
  {
   "cell_type": "markdown",
   "metadata": {},
   "source": [
    "### list和tuple比较"
   ]
  },
  {
   "cell_type": "code",
   "execution_count": 113,
   "metadata": {},
   "outputs": [
    {
     "name": "stdout",
     "output_type": "stream",
     "text": [
      "4584067464 4583433848\n",
      "4584067464 4585191080\n",
      "****************************************************************************************************\n"
     ]
    }
   ],
   "source": [
    "data = ('China','CN', '1300.000', ('156.000', '456.000'))\n",
    "list_example = ['hello']\n",
    "tuple_example = ('hello',) \n",
    "\n",
    "# 都支持+\n",
    "list_example + ['world']\n",
    "\n",
    "tuple_example + ('world', )\n",
    "\n",
    "# 都支持 +=\n",
    "list_example += ['zh']\n",
    "list_example\n",
    "\n",
    "list_example.copy()\n",
    "\n",
    "# 都支持 count 函数 \n",
    "tuple_example.count('zh'), list_example.count('zh')\n",
    "\n",
    "# list 支持clear\n",
    "list_example.clear()\n",
    "list_example\n",
    "\n",
    "list_example.extend(['hello', 'world'])\n",
    "list_example\n",
    "\n",
    "# 都支持__getitem__ \n",
    "list_example[:1], tuple_example[:1]\n",
    "\n",
    "#都支持index()\n",
    "list_example.index('hello'), tuple_example.index('hello')\n",
    "\n",
    "# list 支持inset \n",
    "list_example.insert(1, 'hi, ')\n",
    "list_example\n",
    "\n",
    "# 都支持len函数\n",
    "len(list_example), len(tuple_example)\n",
    "\n",
    "# 都支持左乘\n",
    "list_example * 2\n",
    "tuple_example * 2\n",
    "\n",
    "# 都支持右乘\n",
    "2 * list_example\n",
    "2 * tuple_example\n",
    "\n",
    "# list独有的 \n",
    "# *=操作\n",
    "list_example *= 2 \n",
    "# 当作栈用\n",
    "list_example.pop(1)\n",
    "list_example = ['hello', 'world']\n",
    "# remove操作\n",
    "list_example.remove('hello')\n",
    "list_example = ['hello', 'world']\n",
    "# 倒序\n",
    "list_example.reverse()\n",
    "# 排序\n",
    "list_example.sort()\n",
    "# 赋值\n",
    "list_example[0] = 'Hello'\n",
    "\n",
    "# 内存分配方面的别\n",
    "l = [1, 2, 3]\n",
    "t = (1, 2, 3)\n",
    "print(id(l), id(t))\n",
    "l *= 2\n",
    "t *= 2\n",
    "# list is append ,but tuple need new memery space\n",
    "# list对象的地址没变，而tuple重新开辟空间\n",
    "print(id(l), id(t))\n",
    "\"\"\"\n",
    "****************************************************************************************************\n",
    "4584067464 4583433848\n",
    "4584067464 4585191080\n",
    "****************************************************************************************************\n",
    "\"\"\""
   ]
  },
  {
   "cell_type": "code",
   "execution_count": 115,
   "metadata": {},
   "outputs": [
    {
     "name": "stdout",
     "output_type": "stream",
     "text": [
      "bcce elc\n",
      "****************************************************************************************************\n",
      "iyl\n",
      "****************************************************************************************************\n",
      "[['_', '_', '_'], ['_', 0, '_'], ['_', '_', '_']]\n",
      "[['_', 0, '_'], ['_', 0, '_'], ['_', 0, '_']]\n",
      "****************************************************************************************************\n",
      " 27  12 ************ 27\n",
      " 14   8 ******** 14\n",
      "  9   5 ***** 9 \n",
      "  4   3 ***   4 \n",
      "  2   1 *     2 \n",
      "  0   0       0 \n",
      "****************************************************************************************************\n",
      "array('d', [0.5146354686349606, 0.0617090764714483, 0.9230840155463989, 0.5158977405772608, 0.39030036993890704, 0.20504839030915234, 0.18176541678459912, 0.6227135901670435, 0.8275220188755218, 0.2980589147340963])\n",
      "array('d', [0.5146354686349606, 0.0617090764714483, 0.9230840155463989, 0.5158977405772608, 0.39030036993890704, 0.20504839030915234, 0.18176541678459912, 0.6227135901670435, 0.8275220188755218, 0.2980589147340963])\n",
      "****************************************************************************************************\n",
      "该机器是小端\n",
      "b'\\x01\\x00'\n",
      "b'\\x01\\x00\\x00\\x00\\x00\\x00\\x00\\x00'\n",
      "b'\\x01'\n",
      "b'\\xff\\xff'\n",
      "b'\\xff\\xff\\xff\\xff\\xff\\xff\\xff\\xff'\n",
      "b'\\xff'\n",
      "****************************************************************************************************\n",
      "[-2, -1, 0, 1, 2] 5\n",
      "[254, 255, 255, 255, 0, 0, 1, 0, 2, 0] 10\n",
      "****************************************************************************************************\n",
      "deque([0, 1, 2, 3, 4, 5, 6, 7, 8, 9])\n",
      "deque([7, 8, 9, 0, 1, 2, 3, 4, 5, 6])\n",
      "deque([1, 2, 3, 4, 5, 6, 7, 8, 9, 0])\n",
      "deque(['-1', 1, 2, 3, 4, 5, 6, 7, 8, 9, 0])\n",
      "deque(['-3', '-2', '-1', 1, 2, 3, 4, 5, 6, 7, 8, 9, 0])\n",
      "****************************************************************************************************\n",
      "[1, 3, '5', 9, '10', '27', 56]\n",
      "[1, '10', '27', 3, '5', 56, 9]\n",
      "****************************************************************************************************\n",
      "True\n",
      "3301465793785429485\n"
     ]
    },
    {
     "data": {
      "text/plain": [
       "\"\\n****************************************************************************************************\\n3301465793785429485\\nTypeError: unhashable type: 'list'\\n****************************************************************************************************\\n\""
      ]
     },
     "execution_count": 115,
     "metadata": {},
     "output_type": "execute_result"
    }
   ],
   "source": [
    "\"\"\" 切片操作\n",
    "格式为[a:b:c]，部分值可以省略不写，\n",
    "a代表起始位置，\n",
    "b代表结束位置，\n",
    "c代表步长，如果为负数，则代表倒序\n",
    "\"\"\"\n",
    "s = 'bicycle'\n",
    "#2 mean step, also can negative, -1 same reverse\n",
    "print(s[::2], s[:-4:-1])\n",
    "print('*'*100)\n",
    "# slice自定义需要的元素下标,参数含义于[]类似\n",
    "s1 = slice(1, 6, 2)\n",
    "print(s[s1])\n",
    "print('*'*100)\n",
    "\n",
    "\"\"\"\n",
    "****************************************************************************************************\n",
    "bcce elc\n",
    "iyl\n",
    "****************************************************************************************************\n",
    "\"\"\"\n",
    "\n",
    "\"\"\"二维列表\"\"\"\n",
    "# 使用列表生成式的二维列表\n",
    "weird_board = [['_'] * 3 for _ in range(3)]\n",
    "weird_board[1][1] = 0\n",
    "# 使用一维列表*生成的二维列表\n",
    "weird_board1 = [['_'] * 3] *3\n",
    "weird_board1[1][1] = 0\n",
    "# 使用列表生成式的二维列表元素之间没有关系\n",
    "# 使用*时，进行的浅拷贝，三个一维列表公用一块内存\n",
    "print(weird_board)\n",
    "print(weird_board1)\n",
    "print('*'*100)\n",
    "\n",
    "\"\"\"\n",
    "****************************************************************************************************\n",
    "[['_', '_', '_'], ['_', 0, '_'], ['_', '_', '_']]\n",
    "[['_', 0, '_'], ['_', 0, '_'], ['_', 0, '_']]\n",
    "****************************************************************************************************\n",
    "\"\"\"\n",
    "\n",
    "\"\"\"二分查找\"\"\"\n",
    "# 二分查找\n",
    "s1 = [1, 2, 3, 5, 7, 9, 10, 13, 15, 18, 24, 26]\n",
    "s2 = [27, 14, 9, 4, 2, 0]\n",
    "import bisect\n",
    "# format输出格式，{a:b} a表示第几个参数，b表示占几个字符位置\n",
    "sf = '{0:3} {1:3} {2:5} {0:<2d}'\n",
    "for s in s2:\n",
    "    # 计算s2中的每个元素应该插入的位置，当相等时插入位置在左边\n",
    "    pos = bisect.bisect_left(s1, s)\n",
    "    print(sf.format(s, pos, '*' * pos))\n",
    "print('*'*100)\n",
    "\"\"\"\n",
    "****************************************************************************************************\n",
    " 27  12 ************ 27\n",
    " 14   8 ******** 14\n",
    "  9   5 ***** 9 \n",
    "  4   3 ***   4 \n",
    "  2   1 *     2 \n",
    "  0   0       0 \n",
    "****************************************************************************************************\n",
    "\"\"\"\n",
    "\n",
    "\"\"\"array，处理纯数字比list更快\"\"\"\n",
    "from array import array\n",
    "from random import random\n",
    "# 生成一个大的array，和c语言的array类似·\n",
    "floats = array('d', (random() for i in range(10**7) ))\n",
    "fb = open('float.bin', 'wb')\n",
    "# to_file直接将array存到文件中\n",
    "floats.tofile(fb)\n",
    "fb.close()\n",
    "fr = open('float.bin', 'rb')\n",
    "floats2 = array('d')\n",
    "# fromfile将array从文件中读取\n",
    "floats2.fromfile(fr, 10**7)\n",
    "print(floats2[:10])\n",
    "print(floats[:10])\n",
    "print('*'*100)\n",
    "\"\"\"\n",
    "****************************************************************************************************\n",
    "array('d', [0.7182509123572982, 0.7989842760631733, 0.661065365287229, 0.8799408175000824, 0.6836089169239961, 0.1489741655207082, 0.3213561561726036, 0.6914970112333262, 0.762671387988528, 0.1434629447088419])\n",
    "array('d', [0.7182509123572982, 0.7989842760631733, 0.661065365287229, 0.8799408175000824, 0.6836089169239961, 0.1489741655207082, 0.3213561561726036, 0.6914970112333262, 0.762671387988528, 0.1434629447088419])\n",
    "****************************************************************************************************\n",
    "\"\"\"\n",
    "\n",
    "\"\"\"大小端\"\"\"\n",
    "\"\"\"\n",
    "大端：数据的高位存在内存的低地址中，数据的低位存在内存的高地址中。\n",
    "小端：数据的高位存在内存的高地址中，数据的低位存在内存的低地址中。\n",
    "大端的好处是高位（符号位）存在低地址，可以直接从第一个字节判断正负\n",
    "小端的好处是低位存低地址，同一个数据不管存int,short int ,还是long int，存储结构都是一样的。\n",
    "\"\"\"\n",
    "# python判断大小端\n",
    "# H: c中的unsigned short，占2个字节，1的编码应该是b'\\x00\\x01'\n",
    "# 如果输出b'\\x01\\x00'说明地址低位存数据低位，为小端，否则为大端。\n",
    "if b'\\x01\\x00' == array('H', [1]).tostring():\n",
    "    print('该机器是小端')\n",
    "else:\n",
    "    print('该机器是大端')\n",
    "# 无符号int，占2个字节\n",
    "print(array('H', [1]).tostring())\n",
    "# 无符号long int，占4个字节\n",
    "print(array('L', [1]).tostring())\n",
    "# 无符号char,占1个字节\n",
    "print(array('B', [1]).tostring())\n",
    "# 低位开始存储结构都一样，只有长度不一样，也说明是小端\n",
    "# 有符号int，占2个字节\n",
    "print(array('h', [-1]).tostring())\n",
    "# 有符号long int，占4个字节\n",
    "print(array('l', [-1]).tostring())\n",
    "# 有符号char,占1个字节\n",
    "print(array('b', [-1]).tostring())\n",
    "print('*'*100)\n",
    "# -1的编码：1的为\\x00\\x01，将0变1，1变0，加1，变为\\xff\\xff\n",
    "# 对有符号数来说高位补齐取决位正负，负数补的都是1，正数都补0\n",
    "\"\"\"\n",
    "****************************************************************************************************\n",
    "该机器是小端\n",
    "b'\\x01\\x00'\n",
    "b'\\x01\\x00\\x00\\x00\\x00\\x00\\x00\\x00'\n",
    "b'\\x01'\n",
    "b'\\xff\\xff'\n",
    "b'\\xff\\xff\\xff\\xff\\xff\\xff\\xff\\xff'\n",
    "b'\\xff'\n",
    "****************************************************************************************************\n",
    "\"\"\"\n",
    "\n",
    "\"\"\"内存查看对象\"\"\"\n",
    "#memoryview:内存查看对象,指对支持缓冲区协议的数据进行包装，在不需要复制对象基础上允许Python代码访问\n",
    "numbers = array('h', [-2, -1, 0, 1, 2])\n",
    "# memoryview生成numbers的内存view，并不会进行拷贝\n",
    "memv = memoryview(numbers)\n",
    "# 对内存view进行修改\n",
    "memv[2] = 0\n",
    "print(memv.tolist(), len(memv))\n",
    "# cast函数可以将h型数据转为了B型\n",
    "memv_oct = memv.cast('B')\n",
    "print(memv_oct.tolist(), len(memv_oct))\n",
    "print('*'*100)\n",
    "# 内存发生了变化,-1的2个字节变成了255，255\n",
    "\"\"\"\n",
    "****************************************************************************************************\n",
    "[-2, -1, 0, 1, 2] 5\n",
    "[254, 255, 255, 255, 0, 0, 1, 0, 2, 0] 10\n",
    "****************************************************************************************************\n",
    "\"\"\"\n",
    "\n",
    "\"\"\"双端队列\"\"\"\n",
    "from collections import deque\n",
    "dq = deque(range(10))\n",
    "print(dq)\n",
    "# 将队列正向平移3步\n",
    "dq.rotate(3)\n",
    "print(dq)\n",
    "# 将队列逆向平移4步\n",
    "dq.rotate(-4)\n",
    "print(dq)\n",
    "# 左加元素\n",
    "dq.appendleft('-1')\n",
    "print(dq)\n",
    "dq.extendleft(['-2', '-3'])\n",
    "print(dq)\n",
    "print('*'*100)\n",
    "\"\"\"\n",
    "****************************************************************************************************\n",
    "deque([0, 1, 2, 3, 4, 5, 6, 7, 8, 9])\n",
    "deque([7, 8, 9, 0, 1, 2, 3, 4, 5, 6])\n",
    "deque([1, 2, 3, 4, 5, 6, 7, 8, 9, 0])\n",
    "deque(['-1', 1, 2, 3, 4, 5, 6, 7, 8, 9, 0])\n",
    "deque(['-3', '-2', '-1', 1, 2, 3, 4, 5, 6, 7, 8, 9, 0])\n",
    "****************************************************************************************************\n",
    "\"\"\"\n",
    "\n",
    "\"\"\"排序\"\"\"\n",
    "l = [1, 3, 9, '5', 56, '27', '10']\n",
    "# 自定义排序规则,比较int和str\n",
    "print(sorted(l ,key=int))\n",
    "print(sorted(l, key=str))\n",
    "print('*'*100)\n",
    "\"\"\"\n",
    "****************************************************************************************************\n",
    "[1, 3, '5', 9, '10', '27', 56]\n",
    "[1, '10', '27', 3, '5', 56, 9]\n",
    "****************************************************************************************************\n",
    "\"\"\"\n",
    "\n",
    "\"\"\"isinstance\"\"\"\n",
    "from collections import abc\n",
    "print(isinstance(dict(), abc.Mapping))\n",
    "\"\"\"\n",
    "****************************************************************************************************\n",
    "True\n",
    "****************************************************************************************************\n",
    "\"\"\"\n",
    "\n",
    "\"\"\"hash\"\"\"\n",
    "tt = (1, 2, (10, 20))\n",
    "print(hash(tt))\n",
    "#不可修改的数据类型才可以被hash\n",
    "tt = (1, 2, [10, 20])\n",
    "#print(hash(tt))\n",
    "\"\"\"\n",
    "****************************************************************************************************\n",
    "3301465793785429485\n",
    "TypeError: unhashable type: 'list'\n",
    "****************************************************************************************************\n",
    "\"\"\""
   ]
  },
  {
   "cell_type": "markdown",
   "metadata": {},
   "source": [
    "## 字典和集合"
   ]
  },
  {
   "cell_type": "code",
   "execution_count": 120,
   "metadata": {},
   "outputs": [
    {
     "name": "stdout",
     "output_type": "stream",
     "text": [
      "****************************************************************************************************\n",
      "{'one': 1, 'two': 2, 'three': 3}\n",
      "{'one': 1, 'two': 2, 'three': 3}\n",
      "{'one': 1, 'two': 2, 'three': 3}\n",
      "{'one': 1, 'two': 2, 'three': 3}\n",
      "{'one': 1, 'two': 2, 'three': 3}\n",
      "True\n",
      "****************************************************************************************************\n"
     ]
    },
    {
     "data": {
      "text/plain": [
       "\"\\n****************************************************************************************************\\n{'one': 1, 'two': 2, 'three': 3}\\n{'one': 1, 'two': 2, 'three': 3}\\n{'one': 1, 'two': 2, 'three': 3}\\n{'one': 1, 'two': 2, 'three': 3}\\n{'one': 1, 'two': 2, 'three': 3}\\nTrue\\n****************************************************************************************************\\n\""
      ]
     },
     "execution_count": 120,
     "metadata": {},
     "output_type": "execute_result"
    }
   ],
   "source": [
    "\"\"\"dict的初始化方法\"\"\"\n",
    "a = {'one':1, 'two':2 , 'three':3}\n",
    "b = dict(one=1, two=2, three=3)\n",
    "c = dict({'one':1, 'two':2, 'three':3})\n",
    "d = dict(zip(['one', 'two', 'three'], [1, 2, 3]))\n",
    "e = dict([('one', 1), ('two', 2), ('three', 3)])\n",
    "print('*'*100)\n",
    "print(a)\n",
    "print(b)\n",
    "print(c)\n",
    "print(d)\n",
    "print(e)\n",
    "print(a == b == c == d == e)\n",
    "print('*'*100)\n",
    "\"\"\"\n",
    "****************************************************************************************************\n",
    "{'one': 1, 'two': 2, 'three': 3}\n",
    "{'one': 1, 'two': 2, 'three': 3}\n",
    "{'one': 1, 'two': 2, 'three': 3}\n",
    "{'one': 1, 'two': 2, 'three': 3}\n",
    "{'one': 1, 'two': 2, 'three': 3}\n",
    "True\n",
    "****************************************************************************************************\n",
    "\"\"\""
   ]
  },
  {
   "cell_type": "code",
   "execution_count": 133,
   "metadata": {},
   "outputs": [
    {
     "name": "stdout",
     "output_type": "stream",
     "text": [
      "missing 4\n",
      "fout\n"
     ]
    },
    {
     "data": {
      "text/plain": [
       "'\\nmissing 4\\nfout\\n'"
      ]
     },
     "execution_count": 133,
     "metadata": {},
     "output_type": "execute_result"
    }
   ],
   "source": [
    "\"\"\"自定义字典key missing\"\"\"\n",
    "class DICT(dict):\n",
    "    # __missing__  在key未找到时调用\n",
    "    def __missing__(self, key):\n",
    "        return 'default'\n",
    "di = DICT({'one':1, 'four': 4})\n",
    "\n",
    "class StrKeyDict0(dict):\n",
    "    # 如果key是str，报错退出，否则转为str，再次调用get_item方法。\n",
    "    def __missing__(self, key):\n",
    "        print('missing', key)\n",
    "        if isinstance(key, str):\n",
    "            raise KeyError(key)\n",
    "        else:\n",
    "            return self[str(key)]\n",
    "    # 先调用get_item方法，出错时返回default值\n",
    "    def get(self, key, default=None):\n",
    "        try:\n",
    "            return self[key]\n",
    "        except KeyError:\n",
    "            print('keyerror')\n",
    "            return default\n",
    "    # 需要判断key和str（key）是否都不在keys中，才返回false\n",
    "    def __contains__(self, key):\n",
    "        return key in self.keys() or str(key) in self.keys()\n",
    "        \n",
    "dd = StrKeyDict0([('4', 'fout'), ('2', 'two')])\n",
    "# 先调用__missing__方法\n",
    "print(dd[4])\n",
    "\"\"\"\n",
    "missing 4\n",
    "fout\n",
    "\"\"\""
   ]
  },
  {
   "cell_type": "code",
   "execution_count": 134,
   "metadata": {},
   "outputs": [
    {
     "name": "stdout",
     "output_type": "stream",
     "text": [
      "Counter({'a': 2, 'b': 2, 'c': 2})\n",
      "Counter({'a': 5, 'b': 4, 'c': 3})\n",
      "Counter({'c': 4, 'a': 3, 'b': 3})\n",
      "[('c', 4), ('a', 3), ('b', 3)]\n",
      "12\n"
     ]
    },
    {
     "data": {
      "text/plain": [
       "\"\\nCounter({'a': 2, 'b': 2, 'c': 2})\\nCounter({'a': 5, 'b': 4, 'c': 3})\\nCounter({'c': 4, 'a': 3, 'b': 3})\\n[('c', 4), ('a', 3), ('b', 3)]\\n12\\n\""
      ]
     },
     "execution_count": 134,
     "metadata": {},
     "output_type": "execute_result"
    }
   ],
   "source": [
    "\"\"\"Counter: 计数器\"\"\"\n",
    "from collections import Counter\n",
    "# 可以用str初始化，计算每个字符出现的次数，生成Counter 对象\n",
    "c1 = Counter('aabbcc')\n",
    "# 直接用字典初始化\n",
    "c2 = Counter({'a':3, 'b':3, 'c': 4})\n",
    "print(c1)\n",
    "# update 方法将新元素出现的次数追加到旧的Counter对象中\n",
    "c1.update('aaabbc')\n",
    "print(c1)\n",
    "print(c2)\n",
    "# most_common安装出现次数排序\n",
    "print(c2.most_common())\n",
    "# 计算次数和\n",
    "print(sum(c1.values()))\n",
    "\"\"\"\n",
    "Counter({'a': 2, 'b': 2, 'c': 2})\n",
    "Counter({'a': 5, 'b': 4, 'c': 3})\n",
    "Counter({'c': 4, 'a': 3, 'b': 3})\n",
    "[('c', 4), ('a', 3), ('b', 3)]\n",
    "12\n",
    "\"\"\""
   ]
  },
  {
   "cell_type": "code",
   "execution_count": 138,
   "metadata": {},
   "outputs": [
    {
     "name": "stdout",
     "output_type": "stream",
     "text": [
      "{'A': 1}\n",
      "{'A': 1, 'B': 2}\n"
     ]
    },
    {
     "ename": "TypeError",
     "evalue": "'mappingproxy' object does not support item assignment",
     "output_type": "error",
     "traceback": [
      "\u001b[0;31m---------------------------------------------------------------------------\u001b[0m",
      "\u001b[0;31mTypeError\u001b[0m                                 Traceback (most recent call last)",
      "\u001b[0;32m<ipython-input-138-78202f08c07c>\u001b[0m in \u001b[0;36m<module>\u001b[0;34m\u001b[0m\n\u001b[1;32m      9\u001b[0m \u001b[0mprint\u001b[0m\u001b[0;34m(\u001b[0m\u001b[0md_Map\u001b[0m\u001b[0;34m)\u001b[0m\u001b[0;34m\u001b[0m\u001b[0;34m\u001b[0m\u001b[0m\n\u001b[1;32m     10\u001b[0m \u001b[0;31m# 不可写\u001b[0m\u001b[0;34m\u001b[0m\u001b[0;34m\u001b[0m\u001b[0;34m\u001b[0m\u001b[0m\n\u001b[0;32m---> 11\u001b[0;31m \u001b[0md_Map\u001b[0m\u001b[0;34m[\u001b[0m\u001b[0;34m'C'\u001b[0m\u001b[0;34m]\u001b[0m \u001b[0;34m=\u001b[0m \u001b[0;36m3\u001b[0m\u001b[0;34m\u001b[0m\u001b[0;34m\u001b[0m\u001b[0m\n\u001b[0m\u001b[1;32m     12\u001b[0m \"\"\"\n\u001b[1;32m     13\u001b[0m \u001b[0;34m{\u001b[0m\u001b[0;34m'A'\u001b[0m\u001b[0;34m:\u001b[0m \u001b[0;36m1\u001b[0m\u001b[0;34m}\u001b[0m\u001b[0;34m\u001b[0m\u001b[0;34m\u001b[0m\u001b[0m\n",
      "\u001b[0;31mTypeError\u001b[0m: 'mappingproxy' object does not support item assignment"
     ]
    }
   ],
   "source": [
    "\"\"\"字典视图\"\"\"\n",
    "from types import MappingProxyType\n",
    "d = dict({'A':1})\n",
    "#MappingProxyType 创建一个字典的视图\n",
    "d_Map = MappingProxyType(d)\n",
    "print(d_Map)\n",
    "d['B'] = 2\n",
    "# 会随着原dict的变化而变化\n",
    "print(d_Map)\n",
    "# 不可写\n",
    "d_Map['C'] = 3\n",
    "\"\"\"\n",
    "{'A': 1}\n",
    "{'A': 1, 'B': 2}\n",
    "---------------------------------------------------------------------------\n",
    "TypeError                                 Traceback (most recent call last)\n",
    "<ipython-input-137-37eb8a2aaa9f> in <module>\n",
    "      9 print(d_Map)\n",
    "     10 # 不可写\n",
    "---> 11 d_Map['C'] = 3\n",
    "\n",
    "TypeError: 'mappingproxy' object does not support item assignment\n",
    "\"\"\""
   ]
  },
  {
   "cell_type": "code",
   "execution_count": 139,
   "metadata": {},
   "outputs": [
    {
     "name": "stdout",
     "output_type": "stream",
     "text": [
      "[1, 2, 3, 4]\n"
     ]
    }
   ],
   "source": [
    "\"\"\"使用set对list去重\"\"\"\n",
    "l = [1,2,3,3,4]\n",
    "print(list(set(l)))\n",
    "\"\"\"\n",
    "[1, 2, 3, 4]\n",
    "\"\"\""
   ]
  },
  {
   "cell_type": "code",
   "execution_count": 160,
   "metadata": {},
   "outputs": [
    {
     "name": "stdout",
     "output_type": "stream",
     "text": [
      "<class 'set'>\n",
      "<class 'frozenset'>\n",
      "3895031357313128696\n",
      "<class 'dict'> <class 'set'>\n"
     ]
    },
    {
     "data": {
      "text/plain": [
       "\"\\n<class 'set'>\\n<class 'frozenset'>\\n395031357313128696\\n<class 'dict'> <class 'set'>\\n\""
      ]
     },
     "execution_count": 160,
     "metadata": {},
     "output_type": "execute_result"
    }
   ],
   "source": [
    "\"\"\"set的初始化\"\"\"\n",
    "# set 的元素必须是可hash的，而set本身是不可hash的，frozenset是可hash的\n",
    "# 所以set不可以嵌套，但是可以里面有frozenset\n",
    "s = {4, 6, 5}\n",
    "print(type(s))\n",
    "f = frozenset(range(10))\n",
    "print(type(f))\n",
    "print(hash(f))\n",
    "\"\"\"空dict和空set\"\"\" \n",
    "sd = {}\n",
    "se = set()\n",
    "print(type(sd), type(se))\n",
    "\"\"\"\n",
    "<class 'set'>\n",
    "<class 'frozenset'>\n",
    "395031357313128696\n",
    "<class 'dict'> <class 'set'>\n",
    "\"\"\""
   ]
  },
  {
   "cell_type": "code",
   "execution_count": 167,
   "metadata": {},
   "outputs": [
    {
     "name": "stdout",
     "output_type": "stream",
     "text": [
      "3\n",
      "3\n"
     ]
    },
    {
     "data": {
      "text/plain": [
       "'\\n3\\n3\\n'"
      ]
     },
     "execution_count": 167,
     "metadata": {},
     "output_type": "execute_result"
    }
   ],
   "source": [
    "\"\"\"求2个列表的公共元素的个数\"\"\"\n",
    "l1 = [1, 2, 3, 4, 6]\n",
    "l2 = [3, 4, 5, 6]\n",
    "# 取交集\n",
    "print(len(set(l1) & set(l2)))\n",
    "print(len(set(l2).intersection(l1)))\n",
    "\"\"\"\n",
    "3\n",
    "3\n",
    "\"\"\""
   ]
  },
  {
   "cell_type": "code",
   "execution_count": 169,
   "metadata": {},
   "outputs": [
    {
     "name": "stdout",
     "output_type": "stream",
     "text": [
      "  1           0 LOAD_NAME                0 (set)\n",
      "              2 CALL_FUNCTION            0\n",
      "              4 RETURN_VALUE\n",
      "None\n",
      "  1           0 LOAD_CONST               0 (1)\n",
      "              2 LOAD_CONST               1 (2)\n",
      "              4 LOAD_CONST               2 (3)\n",
      "              6 BUILD_SET                3\n",
      "              8 RETURN_VALUE\n",
      "None\n",
      "  1           0 LOAD_NAME                0 (set)\n",
      "              2 LOAD_CONST               0 (1)\n",
      "              4 LOAD_CONST               1 (2)\n",
      "              6 LOAD_CONST               2 (3)\n",
      "              8 BUILD_LIST               3\n",
      "             10 CALL_FUNCTION            1\n",
      "             12 RETURN_VALUE\n",
      "None\n"
     ]
    },
    {
     "data": {
      "text/plain": [
       "'\\n  1           0 LOAD_NAME                0 (set)\\n              2 CALL_FUNCTION            0\\n              4 RETURN_VALUE\\nNone\\n  1           0 LOAD_CONST               0 (1)\\n              2 LOAD_CONST               1 (2)\\n              4 LOAD_CONST               2 (3)\\n              6 BUILD_SET                3\\n              8 RETURN_VALUE\\nNone\\n  1           0 LOAD_NAME                0 (set)\\n              2 LOAD_CONST               0 (1)\\n              4 LOAD_CONST               1 (2)\\n              6 LOAD_CONST               2 (3)\\n              8 BUILD_LIST               3\\n             10 CALL_FUNCTION            1\\n             12 RETURN_VALUE\\n\\n'"
      ]
     },
     "execution_count": 169,
     "metadata": {},
     "output_type": "execute_result"
    }
   ],
   "source": [
    "\"\"\"set的迭代\"\"\"\n",
    "# 比较汇编代码\n",
    "from dis import dis\n",
    "print(dis('set()'))\n",
    "# 更快速，直接生成set\n",
    "print(dis('{1, 2, 3}'))\n",
    "# 先生成list，再调用函数生成set\n",
    "print(dis('set([1, 2, 3])'))\n",
    "\"\"\"\n",
    "  1           0 LOAD_NAME                0 (set)\n",
    "              2 CALL_FUNCTION            0\n",
    "              4 RETURN_VALUE\n",
    "None\n",
    "  1           0 LOAD_CONST               0 (1)\n",
    "              2 LOAD_CONST               1 (2)\n",
    "              4 LOAD_CONST               2 (3)\n",
    "              6 BUILD_SET                3\n",
    "              8 RETURN_VALUE\n",
    "None\n",
    "  1           0 LOAD_NAME                0 (set)\n",
    "              2 LOAD_CONST               0 (1)\n",
    "              4 LOAD_CONST               1 (2)\n",
    "              6 LOAD_CONST               2 (3)\n",
    "              8 BUILD_LIST               3\n",
    "             10 CALL_FUNCTION            1\n",
    "             12 RETURN_VALUE\n",
    "\n",
    "\"\"\""
   ]
  },
  {
   "cell_type": "markdown",
   "metadata": {},
   "source": [
    "### question\n",
    "- 为什么dict和set的效率更高\n",
    "\n",
    "   使用了hash表。\n",
    "   \n",
    "- python如何使用hash表实现字典？  \n",
    "   * 本质上还是用空间换时间\n",
    "   * dict的hash是一个稀疏数组,数组中的大部分cell（buckets）都是空的,每个cell有2个引用，一个是key的引用，一个value的引用，每个cell的大小都是固定的，可以通过offset访问每个cell。\n",
    "   * python 保证至少1/3的cell都是空的，减少发生hash冲突的概率，如果hash表太过拥挤，则重新开辟空间\n",
    "   * 将元素放入字典的第一步就是使用hash函数计算元素key的hash值（整形数字），然后用hash值和数组大小计算元素应该存放的位置，如果该位置已经有值则发生hash冲突\n",
    "   * python解决冲突的方式是开放寻址，通过探测算法，寻找下个可用的位置\n",
    "   * 每个cell除了key和value的引用（指针）之外，还有个标志位用来标记该cell的状态，值为[Unused,Active,Dummy]一开始是unused表示该cell未被使用，此时key和value的值都为null，插入元素后该值变为Active，此时key和value的值都不为空，删除元素后，有Active变成Dummy，不会变回Unused，因为会发生hash冲突使用探测算法，如果将其置为Unused，则探测链中断\n",
    "- 为什么dict和set无法排序\n",
    "- dict的key和set的元素不能是python object\n",
    "- dict的key和set的元素的顺序取决于他们insert的顺序，并且会发生变化\n",
    "- 当对字典和set进行迭代时，不要增加元素"
   ]
  },
  {
   "cell_type": "code",
   "execution_count": 17,
   "metadata": {},
   "outputs": [
    {
     "name": "stdout",
     "output_type": "stream",
     "text": [
      "1        000000000000000000000000000000000000000000000000000000000000001\n",
      "                                                                         != 0\n",
      "1.0      000000000000000000000000000000000000000000000000000000000000001\n",
      "-------------------------------------------------------------------------------\n",
      "1.0      000000000000000000000000000000000000000000000000000000000000001\n",
      "                        !! !   !! !! !!!   ! !!! ! !!   !!!   !          != 21\n",
      "1.0001   000000000000000110100011011011100010111010110001110001000000001\n",
      "-------------------------------------------------------------------------------\n",
      "1.0001   000000000000000110100011011011100010111010110001110001000000001\n",
      "                       ! !!!  ! !! !!  !  !!!  !!!! !  !  !  !!          != 22\n",
      "1.0002   000000000000001101000110110111000101110101100011100010000000001\n",
      "-------------------------------------------------------------------------------\n"
     ]
    },
    {
     "data": {
      "text/plain": [
       "'\\n1        000000000000000000000000000000000000000000000000000000000000001\\n                                                                         != 0\\n1.0      000000000000000000000000000000000000000000000000000000000000001\\n-------------------------------------------------------------------------------\\n1.0      000000000000000000000000000000000000000000000000000000000000001\\n                        !! !   !! !! !!!   ! !!! ! !!   !!!   !          != 21\\n1.0001   000000000000000110100011011011100010111010110001110001000000001\\n-------------------------------------------------------------------------------\\n1.0001   000000000000000110100011011011100010111010110001110001000000001\\n                       ! !!!  ! !! !!  !  !!!  !!!! !  !  !  !!          != 22\\n1.0002   000000000000001101000110110111000101110101100011100010000000001\\n-------------------------------------------------------------------------------\\n'"
      ]
     },
     "execution_count": 17,
     "metadata": {},
     "output_type": "execute_result"
    }
   ],
   "source": [
    "# hashdiff.py hash值的比较\n",
    "import sys\n",
    "# 数据结构的最大size数\n",
    "MAX_BITS = len(format(sys.maxsize, 'b'))\n",
    "def hash_diff(o1, o2):\n",
    "    # hash值的二进制表示\n",
    "    h1 = '{:>0{}b}'.format(hash(o1), MAX_BITS)\n",
    "    h2 = '{:>0{}b}'.format(hash(o2), MAX_BITS)\n",
    "    # 有差异的字符和字符数目\n",
    "    diff = ''.join('!' if b1 != b2 else ' ' for b1, b2 in zip(h1, h2))\n",
    "    count = '!= {}'.format(diff.count('!'))\n",
    "    # 计算o1,o2 占位宽度\n",
    "    width = max(len(repr(o1)), len(repr(o2)), 8)\n",
    "    sep = '-' * (width * 2 + MAX_BITS)\n",
    "    # 格式化最后输出\n",
    "    # !r表示对参数调用repr()方法，这里是为了对齐，整数默认是右对齐，字符串是左对齐，使用!r之后为左对齐\n",
    "    return '{!r:{width}} {}\\n{:{width}} {} {}\\n{!r:{width}} {}\\n{}'.format(o1, h1, ' ' * width, diff, count, o2, h2, sep, width=width)\n",
    "print(hash_diff(1, 1.0))\n",
    "print(hash_diff(1.0, 1.0001))\n",
    "print(hash_diff(1.0001, 1.0002))\n",
    "\"\"\"\n",
    "1        000000000000000000000000000000000000000000000000000000000000001\n",
    "                                                                         != 0\n",
    "1.0      000000000000000000000000000000000000000000000000000000000000001\n",
    "-------------------------------------------------------------------------------\n",
    "1.0      000000000000000000000000000000000000000000000000000000000000001\n",
    "                        !! !   !! !! !!!   ! !!! ! !!   !!!   !          != 21\n",
    "1.0001   000000000000000110100011011011100010111010110001110001000000001\n",
    "-------------------------------------------------------------------------------\n",
    "1.0001   000000000000000110100011011011100010111010110001110001000000001\n",
    "                       ! !!!  ! !! !!  !  !!!  !!!! !  !  !  !!          != 22\n",
    "1.0002   000000000000001101000110110111000101110101100011100010000000001\n",
    "-------------------------------------------------------------------------------\n",
    "\"\"\""
   ]
  },
  {
   "cell_type": "code",
   "execution_count": 18,
   "metadata": {},
   "outputs": [
    {
     "name": "stdout",
     "output_type": "stream",
     "text": [
      "                                                            \n",
      "                                                            \n",
      "                                                            \n",
      "                                                            \n",
      "                                                            \n",
      "                                                            \n",
      "                                                            \n",
      "                                                            \n",
      "                                                            \n",
      "                                                            \n",
      "                                                            \n",
      "                                                            \n",
      "                                                            \n",
      "                                                            \n",
      "                                                            \n",
      "                                                            \n",
      "                                                            \n",
      "                                                            \n",
      "                veLoveLov           veLoveLov               \n",
      "            eLoveLoveLoveLove   eLoveLoveLoveLove           \n",
      "          veLoveLoveLoveLoveLoveLoveLoveLoveLoveLov         \n",
      "         veLoveLoveLoveLoveLoveLoveLoveLoveLoveLoveL        \n",
      "        veLoveLoveLoveLoveLoveLoveLoveLoveLoveLoveLov       \n",
      "        eLoveLoveLoveLoveLoveLoveLoveLoveLoveLoveLove       \n",
      "        LoveLoveLoveLoveLoveLoveLoveLoveLoveLoveLoveL       \n",
      "        oveLoveLoveLoveLoveLoveLoveLoveLoveLoveLoveLo       \n",
      "        veLoveLoveLoveLoveLoveLoveLoveLoveLoveLoveLov       \n",
      "        eLoveLoveLoveLoveLoveLoveLoveLoveLoveLoveLove       \n",
      "         oveLoveLoveLoveLoveLoveLoveLoveLoveLoveLove        \n",
      "          eLoveLoveLoveLoveLoveLoveLoveLoveLoveLove         \n",
      "          LoveLoveLoveLoveLoveLoveLoveLoveLoveLoveL         \n",
      "            eLoveLoveLoveLoveLoveLoveLoveLoveLove           \n",
      "             oveLoveLoveLoveLoveLoveLoveLoveLove            \n",
      "              eLoveLoveLoveLoveLoveLoveLoveLove             \n",
      "                veLoveLoveLoveLoveLoveLoveLov               \n",
      "                  oveLoveLoveLoveLoveLoveLo                 \n",
      "                    LoveLoveLoveLoveLoveL                   \n",
      "                       LoveLoveLoveLov                      \n",
      "                          LoveLoveL                         \n",
      "                             Lov                            \n",
      "                              v                             \n",
      "                                                            \n",
      "                                                            \n",
      "                                                            \n",
      "                                                            \n",
      "                                                            \n",
      "                                                            \n",
      "                                                            \n",
      "                                                            \n",
      "                                                            \n",
      "                                                            \n",
      "                                                            \n",
      "                                                            \n",
      "                                                            \n",
      "                                                            \n",
      "                                                            \n",
      "                                                            \n",
      "                                                            \n",
      "                                                            \n",
      "                                                            \n"
     ]
    }
   ],
   "source": [
    "print('\\n'.join([''.join([('Love'[(x-y) % len('Love')] if ((x*0.05)**2+(y*0.1)**2-1)**3-(x*0.05)**2*(y*0.1)**3 <= 0 else ' ') for x in range(-30, 30)]) for y in range(30, -30, -1)]))"
   ]
  },
  {
   "cell_type": "code",
   "execution_count": 185,
   "metadata": {},
   "outputs": [
    {
     "name": "stdout",
     "output_type": "stream",
     "text": [
      "list: 64\n",
      "dict: 240\n",
      "set: 224\n",
      "tuple 48\n"
     ]
    },
    {
     "data": {
      "text/plain": [
       "'\\nlist: 64\\ndict: 240\\nset: 224\\ntuple 48\\n'"
      ]
     },
     "execution_count": 185,
     "metadata": {},
     "output_type": "execute_result"
    }
   ],
   "source": [
    "\"各个数据结构所占用的空间比较\"\n",
    "from sys import getsizeof\n",
    "a = []\n",
    "b = dict()\n",
    "c = set()\n",
    "d = ()\n",
    "'dict>set>list>tuple'\n",
    "print('list:', getsizeof(a))\n",
    "print('dict:', getsizeof(b))\n",
    "print('set:', getsizeof(c))\n",
    "print('tuple', getsizeof(d))\n",
    "\"\"\"\n",
    "list: 64\n",
    "dict: 240\n",
    "set: 224\n",
    "tuple 48\n",
    "\"\"\""
   ]
  },
  {
   "cell_type": "code",
   "execution_count": 178,
   "metadata": {
    "scrolled": true
   },
   "outputs": [
    {
     "name": "stdout",
     "output_type": "stream",
     "text": [
      "ÿ\n",
      "LATIN SMALL LETTER Y WITH DIAERESIS\n",
      "['#', '$', '%', '+', '<', '=', '>', '¢', '£', '¤', '¥', '§', '©', '¬', '®', '°', '±', 'µ', '¶', '×', '÷']\n"
     ]
    },
    {
     "data": {
      "text/plain": [
       "\"\\nÿ\\nLATIN SMALL LETTER Y WITH DIAERESIS\\n['#', '$', '%', '+', '<', '=', '>', '¢', '£', '¤', '¥', '§', '©', '¬', '®', '°', '±', 'µ', '¶', '×', '÷']\\n\""
      ]
     },
     "execution_count": 178,
     "metadata": {},
     "output_type": "execute_result"
    }
   ],
   "source": [
    "\"\"\"unicode 名称\"\"\"\n",
    "from unicodedata import name\n",
    "chs = [chr(i) for i in range(32, 256) if 'SIGN' in name(chr(i), '')]\n",
    "# 输出unicode字符\n",
    "print(chr(255))\n",
    "# 输出unicode字符的名字\n",
    "print(name(chr(255)))\n",
    "# 过滤符号\n",
    "print(chs)\n",
    "\"\"\"\n",
    "ÿ\n",
    "LATIN SMALL LETTER Y WITH DIAERESIS\n",
    "['#', '$', '%', '+', '<', '=', '>', '¢', '£', '¤', '¥', '§', '©', '¬', '®', '°', '±', 'µ', '¶', '×', '÷']\n",
    "\"\"\""
   ]
  },
  {
   "cell_type": "code",
   "execution_count": 190,
   "metadata": {},
   "outputs": [
    {
     "data": {
      "text/plain": [
       "True"
      ]
     },
     "execution_count": 190,
     "metadata": {},
     "output_type": "execute_result"
    }
   ],
   "source": [
    "# 相同的两个object，其hash值必定相同\n",
    "hash(1) == hash(1.0000000000000)\n",
    "\n",
    "#                                  用hash实现dict\n",
    "#1. 计算key的hash值\n",
    "#2. 根据部分计算出来的hash值在hash表中定位bucket(每一个bucket都代表一个key：value对)\n",
    "#3. 如果bucket为空，raise KeyError\n",
    "#4. 比较key和每个bucket的key，如果相等，返回该bucket的value， 如果不相等对另一个bucket进行判断。\n",
    "\n",
    "#                判断一个object是否可hash的条件\n",
    "#1. 可以被hash方法调用，并且在生命走起内返回值永远相同\n",
    "#2. 支持__eq__方法\n",
    "#3. 如果 a == b 是True， 那么hash(a) == hash(b) 一定也是True\n",
    "# 自定义的数据类型都是可hash的，其hash值都是id()值，都是不相同的。\n",
    "\n",
    "\n",
    "DIAL_CODES = [\n",
    "        (86, 'China'),\n",
    "        (91, 'India'),\n",
    "        (1, 'United States'),\n",
    "        (62, 'Indonesia'),\n",
    "        (55, 'Brazil'),\n",
    "        (92, 'Pakistan'),\n",
    "        (880, 'Bangladesh'),\n",
    "        (234, 'Nigeria'),\n",
    "        (7, 'Russia'),\n",
    "        (81, 'Japan'),\n",
    "]\n",
    "\n",
    "\n",
    "d1 = dict(DIAL_CODES)\n",
    "d2 = dict(sorted(DIAL_CODES))\n",
    "d3 = dict(sorted(DIAL_CODES, key=lambda x: x[1]))\n",
    "\n",
    "print(d1.keys())\n",
    "print(d2.keys())\n",
    "print(d3.keys())\n",
    "\n",
    "assert d1 == d2 == d3"
   ]
  },
  {
   "cell_type": "code",
   "execution_count": 223,
   "metadata": {},
   "outputs": [
    {
     "name": "stdout",
     "output_type": "stream",
     "text": [
      "b'A'\n",
      "<class 'bytes'>\n"
     ]
    }
   ],
   "source": [
    "a = 'A'\n",
    "b = a.encode('utf-8')\n",
    "print(b)\n",
    "print(type(b))"
   ]
  },
  {
   "cell_type": "code",
   "execution_count": 243,
   "metadata": {},
   "outputs": [
    {
     "data": {
      "text/plain": [
       "b'caf\\xc2\\xa5'"
      ]
     },
     "execution_count": 243,
     "metadata": {},
     "output_type": "execute_result"
    }
   ],
   "source": [
    "# 生成二进制类型\\x代表16进制，¥字符用两个16进制字符表示\n",
    "# 在ASCII字符范围内的，就用ASCII字符表示，\n",
    "# 对tab换行等特殊字符用\\t, \\r表示\n",
    "# 对其他二进制，用16进制字符表示\n",
    "cafe = bytes('caf¥', encoding='utf-8')\n",
    "#前三个字符是ASCII范围内，最后一个用16进制表示。\n",
    "cafe\n",
    "\n",
    "# 每一项都在range(256)范围内\n",
    "len(cafe)\n",
    "\n",
    "#支持索引和切片，切片类型也是bytes\n",
    "print(cafe[0])\n",
    "print(type(cafe[-1:]))\n",
    "\n",
    "cafe[-1:]\n",
    "\n",
    "cafe_arr = bytearray(cafe)\n",
    "cafe_arr[-1:]\n",
    "\n",
    "t = b'\\n'\n",
    "\n",
    "print(t)\n",
    "\n",
    "bb = bytes.fromhex('31 4B CE A9')\n",
    "bb\n",
    "\n",
    "#2个16进制字符表示一个字符\n",
    "bb.decode('utf-8')\n",
    "\n",
    "b2 = bytes.fromhex('31CEA94B')\n",
    "b2\n",
    "\n",
    "b2.decode('utf-8')\n",
    "\n",
    "from array import array \n",
    "a1 = array('h', [-2, -1, 0, 1, 2])\n",
    "a2 = array('b', [-2, -1, 0, 1, 2])\n",
    "\n",
    "#每一个数字占2个字节\n",
    "bytes(a1)\n",
    "\n",
    "\n",
    "#每一个数据占一个字节\n",
    "bytes(a2)\n",
    "\n",
    "city = 'São Paulo'\n",
    "\n",
    "\n",
    "city.encode('utf-8')\n",
    "\n",
    "city.encode('utf-8').decode('utf-8')\n",
    "\n",
    "city.encode('utf-16')\n",
    "\n",
    "city.encode('utf-16').decode('utf-16')"
   ]
  },
  {
   "cell_type": "code",
   "execution_count": 27,
   "metadata": {},
   "outputs": [
    {
     "data": {
      "text/markdown": [
       "python2 处理文本文件\n",
       "\n",
       "bytes -> str  Decode \n",
       "\n",
       "str -> str process text only\n",
       "\n",
       "str -> bytes Encode\n",
       "\n",
       "python3 处理文本文件\n",
       "\n",
       "write（），read（）函数处理的都是str，也就是字节码\n"
      ],
      "text/plain": [
       "<IPython.core.display.Markdown object>"
      ]
     },
     "metadata": {},
     "output_type": "display_data"
    }
   ],
   "source": [
    "%%markdown\n",
    "python2 处理文本文件\n",
    "\n",
    "bytes -> str  Decode \n",
    "\n",
    "str -> str process text only\n",
    "\n",
    "str -> bytes Encode\n",
    "\n",
    "python3 处理文本文件\n",
    "\n",
    "write（），read（）函数处理的都是str，也就是字节码"
   ]
  },
  {
   "cell_type": "code",
   "execution_count": 29,
   "metadata": {},
   "outputs": [
    {
     "data": {
      "text/plain": [
       "<_io.TextIOWrapper name='cafe.txt' mode='w' encoding='utf-8'>"
      ]
     },
     "execution_count": 29,
     "metadata": {},
     "output_type": "execute_result"
    }
   ],
   "source": [
    "fp = open(\"cafe.txt\", 'w', encoding='utf-8')\n",
    "fp #指定encoding 为utf-8\n",
    "\n",
    "fp.write('cafe') #返回指是写入数据长度，即len('café')\n",
    "\n",
    "print(len('a'), len('ab'), len('é')) #一个字符占一个字节，'é'占2个字节\n",
    "\n",
    "len('café')\n",
    "\n",
    "print(fp.encoding)\n",
    "fp.close()\n",
    "\n",
    "\n",
    "import os\n",
    "os.stat(\"cafe.txt\").st_size  \n",
    "\n",
    "fp1 = open('cafe.txt', encoding='utf-8')\n",
    "fp1\n",
    "\n",
    "fp1.read()\n",
    "\n",
    "fp2 = open('cafe.txt', 'rb')\n",
    "fp2\n",
    "\n",
    "fp2.read()"
   ]
  },
  {
   "cell_type": "markdown",
   "metadata": {},
   "source": [
    "# part3 funtion object\n",
    "#### python 中的function是\"first-class object\",在程序语言中，\"first-class object\"的定义为：\n",
    "1. 在运行时创建\n",
    "2. 可以赋值给变量或者可以作为列表的元素\n",
    "3. 可以作为函数的参数\n",
    "4. 可以作为函数的返回值\n"
   ]
  },
  {
   "cell_type": "code",
   "execution_count": 8,
   "metadata": {},
   "outputs": [],
   "source": [
    "# 函数N!\n",
    "def fact(n):\n",
    "    return 1 if n < 2 else n * fact(n - 1)"
   ]
  },
  {
   "cell_type": "markdown",
   "metadata": {},
   "source": [
    "## map,filter 和reduce"
   ]
  },
  {
   "cell_type": "code",
   "execution_count": 42,
   "metadata": {},
   "outputs": [
    {
     "name": "stdout",
     "output_type": "stream",
     "text": [
      "[1, 1, 2, 6, 24, 120]\n",
      "[1, 1, 2, 6, 24, 120]\n",
      "[1, 6, 120]\n",
      "[1, 6, 120]\n",
      "499500\n",
      "499500\n",
      "0.0002989768981933594\n",
      "0.00013113021850585938\n",
      "0.0002288818359375\n",
      "True\n"
     ]
    }
   ],
   "source": [
    "## map的用法和列表推导式的作用一致\n",
    "print(list(map(fact, range(6)))) # python3 中map和filter返回的是生成器，python2中返回的是列表 \n",
    "print([fact(i) for i in range(6)])\n",
    "\n",
    "## filter 用于过滤,相当于加了if语句，过滤出奇数,再调用fact函数\n",
    "print(list(map(fact, filter(lambda n:n%2, range(6)))))\n",
    "print([fact(i) for i in range(6) if i%2])\n",
    "\n",
    "## reduce是对一个序列进行重复操作，并且下一次的操作会用到上一次的返回值时时使用\n",
    "## 在python2中是内置函数，在python3中是在functools模块中。\n",
    "from functools import reduce\n",
    "from operator import add\n",
    "from time import time\n",
    "# 实现0-N数字和的两种方式\n",
    "N = 1000\n",
    "t1 = time()\n",
    "print(reduce(add, range(N)))\n",
    "t2 = time()\n",
    "print(sum(range(N)))\n",
    "t3 = time()\n",
    "temp = 0\n",
    "for i in range(N):\n",
    "    temp += i\n",
    "t4 = time()\n",
    "# 比较发现数字足够大时直接使用sum最快，reduce次之，for循环最慢\n",
    "# 数字较小时，sum最快，for次之，reduce最慢\n",
    "print(t2-t1)\n",
    "print(t3-t2)\n",
    "print(t4-t3)\n",
    "\n",
    "# 使用reduce和lambda实现int()方法\n",
    "d = {'0':0, '1':1, '2':2, '3':3, '9':9}\n",
    "def str2int(s):\n",
    "    return reduce(lambda x1,x2: x1*10+x2, map(lambda x:d[x], s))\n",
    "print(str2int('129') == int('129'))    "
   ]
  },
  {
   "cell_type": "markdown",
   "metadata": {},
   "source": [
    "## 匿名函数"
   ]
  },
  {
   "cell_type": "code",
   "execution_count": 50,
   "metadata": {},
   "outputs": [
    {
     "name": "stdout",
     "output_type": "stream",
     "text": [
      "['banana', 'apple', 'fig', 'raspberry', 'strawberry', 'cherry']\n"
     ]
    }
   ],
   "source": [
    "## 使用lambda创建一个匿名函数\n",
    "fruits = ['strawberry', 'fig', 'apple', 'cherry', 'raspberry', 'banana']\n",
    "# 将匿名函数传递给sort函数，自定义排序方式\n",
    "print(sorted(fruits,key=lambda word: word[::-1]))"
   ]
  },
  {
   "cell_type": "markdown",
   "metadata": {},
   "source": [
    "## 7种 callable objects"
   ]
  },
  {
   "cell_type": "code",
   "execution_count": 52,
   "metadata": {},
   "outputs": [
    {
     "name": "stdout",
     "output_type": "stream",
     "text": [
      "True\n"
     ]
    }
   ],
   "source": [
    "# 1. 自定义函数;包括def和lambda定义的函数\n",
    "# 2. 用cpython实现的内置的函数(内置的函数，不属于类)；如len，time.strtime\n",
    "# 3. 用cpython实现的的内置的方法（内置类的方法）；如dict.get\n",
    "# 4. 类的方法；在类内定义的方法\n",
    "# 5. 类；调用时，先使用__new__()创建一个一个实例，然后用__init__()初始化，返回创建的实例\n",
    "# 6. 类的实例；如果一个类定义了__call__()方法，那么它的实例可以被调用\n",
    "# 7. 生成器方法；yield关键字，调用时，生成器方法返回一个生成器\n",
    "\n",
    "# 判断一个对象是否是callable的使用callable函数\n",
    "print(callable(len))"
   ]
  },
  {
   "cell_type": "markdown",
   "metadata": {},
   "source": [
    "## 自定义callable object"
   ]
  },
  {
   "cell_type": "code",
   "execution_count": 122,
   "metadata": {},
   "outputs": [
    {
     "name": "stdout",
     "output_type": "stream",
     "text": [
      "2\n",
      "1\n",
      "0\n",
      "True\n"
     ]
    }
   ],
   "source": [
    "import random\n",
    "class BiNgoCage:\n",
    "    def __init__(self, items):\n",
    "        self._items = list(items)\n",
    "        random.shuffle(self._items) #将序列中的元素随机排列\n",
    "        \n",
    "    def pick(self):\n",
    "        try:\n",
    "            return self._items.pop()\n",
    "        except IndexError:\n",
    "            raise LookupError('pick from empty BingoCage')\n",
    "            \n",
    "    def __call__(self):\n",
    "        return self.pick()\n",
    "    \n",
    "bingo = BingoCage(range(3))\n",
    "print(bingo.pick())\n",
    "print(bingo())\n",
    "print(bingo())\n",
    "print(callable(bingo)) #检测对象是否可调用，即检测是否实现了__call__函数"
   ]
  },
  {
   "cell_type": "code",
   "execution_count": 54,
   "metadata": {
    "ExecuteTime": {
     "end_time": "2019-12-09T06:29:31.501616Z",
     "start_time": "2019-12-09T06:29:31.487064Z"
    }
   },
   "outputs": [
    {
     "name": "stdout",
     "output_type": "stream",
     "text": [
      "['__annotations__', '__call__', '__closure__', '__code__', '__defaults__', '__get__', '__globals__', '__kwdefaults__', '__name__', '__qualname__']\n",
      "{}\n",
      "None\n",
      "<code object func at 0x1116eab70, file \"<ipython-input-54-7a54093e79a2>\", line 3>\n",
      "None\n",
      "func\n"
     ]
    },
    {
     "ename": "ModuleNotFoundError",
     "evalue": "No module named 'clip'",
     "output_type": "error",
     "traceback": [
      "\u001b[0;31m---------------------------------------------------------------------------\u001b[0m",
      "\u001b[0;31mModuleNotFoundError\u001b[0m                       Traceback (most recent call last)",
      "\u001b[0;32m<ipython-input-54-7a54093e79a2>\u001b[0m in \u001b[0;36m<module>\u001b[0;34m\u001b[0m\n\u001b[1;32m      8\u001b[0m \u001b[0mprint\u001b[0m\u001b[0;34m(\u001b[0m\u001b[0mfunc\u001b[0m\u001b[0;34m.\u001b[0m\u001b[0m__defaults__\u001b[0m\u001b[0;34m)\u001b[0m\u001b[0;34m\u001b[0m\u001b[0;34m\u001b[0m\u001b[0m\n\u001b[1;32m      9\u001b[0m \u001b[0mprint\u001b[0m\u001b[0;34m(\u001b[0m\u001b[0mfunc\u001b[0m\u001b[0;34m.\u001b[0m\u001b[0m__name__\u001b[0m\u001b[0;34m)\u001b[0m \u001b[0;31m# 函数名\u001b[0m\u001b[0;34m\u001b[0m\u001b[0;34m\u001b[0m\u001b[0m\n\u001b[0;32m---> 10\u001b[0;31m \u001b[0;32mfrom\u001b[0m \u001b[0mclip\u001b[0m \u001b[0;32mimport\u001b[0m \u001b[0mclip\u001b[0m\u001b[0;34m\u001b[0m\u001b[0;34m\u001b[0m\u001b[0m\n\u001b[0m\u001b[1;32m     11\u001b[0m \u001b[0;32mfrom\u001b[0m \u001b[0moperator\u001b[0m \u001b[0;32mimport\u001b[0m \u001b[0mitemgetter\u001b[0m \u001b[0;31m# 用来获取列表中的指定位置的元素\u001b[0m\u001b[0;34m\u001b[0m\u001b[0;34m\u001b[0m\u001b[0m\n\u001b[1;32m     12\u001b[0m \u001b[0mr\u001b[0m \u001b[0;34m=\u001b[0m \u001b[0mitemgetter\u001b[0m\u001b[0;34m(\u001b[0m\u001b[0;36m1\u001b[0m\u001b[0;34m,\u001b[0m \u001b[0;36m2\u001b[0m\u001b[0;34m)\u001b[0m\u001b[0;34m\u001b[0m\u001b[0;34m\u001b[0m\u001b[0m\n",
      "\u001b[0;31mModuleNotFoundError\u001b[0m: No module named 'clip'"
     ]
    }
   ],
   "source": [
    "class C: pass\n",
    "obj = C() # 自定义对象\n",
    "def func(name):  pass # 自定义函数\n",
    "print(sorted(set(dir(func)) - set(dir(obj)))) #属性差异\n",
    "print(func.__annotations__) # 函数和返回值的注释\n",
    "print(func.__closure__)\n",
    "print(func.__code__)\n",
    "print(func.__defaults__)\n",
    "print(func.__name__) # 函数名\n",
    "from clip import clip\n",
    "from operator import itemgetter # 用来获取列表中的指定位置的元素\n",
    "r = itemgetter(1, 2)\n",
    "print(r(['hello', 'world', '!']))\n",
    "\n",
    "from operator import methodcaller\n",
    "upcase = methodcaller('upper') # 定义一个转化大写的函数\n",
    "print(r = \"hello world\")\n",
    "upcase(r)\n",
    "hiphennate = methodcaller('replace', ' ', '-') # 定义一个将空格转化为-的replace函数\n",
    "print(hiphennate(r))"
   ]
  },
  {
   "cell_type": "code",
   "execution_count": null,
   "metadata": {},
   "outputs": [],
   "source": []
  }
 ],
 "metadata": {
  "kernelspec": {
   "display_name": "Python 3",
   "language": "python",
   "name": "python3"
  },
  "language_info": {
   "codemirror_mode": {
    "name": "ipython",
    "version": 3
   },
   "file_extension": ".py",
   "mimetype": "text/x-python",
   "name": "python",
   "nbconvert_exporter": "python",
   "pygments_lexer": "ipython3",
   "version": "3.7.3"
  }
 },
 "nbformat": 4,
 "nbformat_minor": 2
}
